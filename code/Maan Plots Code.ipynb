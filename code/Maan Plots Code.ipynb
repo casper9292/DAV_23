{
 "cells": [
  {
   "cell_type": "code",
   "execution_count": 1,
   "metadata": {},
   "outputs": [],
   "source": [
    "import numpy as np\n",
    "import pandas as pd\n",
    "import json\n",
    "import csv\n",
    "\n",
    "from bokeh.plotting import figure\n",
    "from bokeh.io import output_file, show, save\n",
    "from bokeh.models import ColumnDataSource\n",
    "from bokeh.transform import dodge\n",
    "from bokeh.core.properties import value\n",
    "from bokeh.models import PanTool, ResetTool, WheelZoomTool, HoverTool, LassoSelectTool, BoxSelectTool\n"
   ]
  },
  {
   "cell_type": "code",
   "execution_count": 2,
   "metadata": {},
   "outputs": [],
   "source": [
    "# Laad de dataset en de participant set\n",
    "df = pd.read_json(\"dataset.json\", lines=True)\n",
    "df_p = pd.read_json('dataset_incidents.json', lines=True)"
   ]
  },
  {
   "cell_type": "code",
   "execution_count": 3,
   "metadata": {},
   "outputs": [],
   "source": []
  },
  {
   "cell_type": "code",
   "execution_count": 10,
   "metadata": {
    "scrolled": true
   },
   "outputs": [],
   "source": [
    "# maakt nieuwe columns met de maand en het jaar\n",
    "\n",
    "df['month'] = df['date'].dt.month\n",
    "df['year'] = df['date'].dt.year\n",
    "\n",
    "# zet de index op month\n",
    "df_maand = df.set_index(['month'])\n",
    "\n",
    "\n",
    "# zet index op jaar en dan maand\n",
    "df_tijd = df.set_index(['year','month'])\n",
    "\n"
   ]
  },
  {
   "cell_type": "code",
   "execution_count": 11,
   "metadata": {},
   "outputs": [],
   "source": [
    "# selecteer op man en maak onderscheid suspect en victim\n",
    "man = df_p.loc[df_p['participant_gender']=='Male']\n",
    "suspect_man = man.loc[man['participant_type']=='Subject-Suspect']\n",
    "victim_man = man.loc[man['participant_type']=='Victim']\n",
    "\n",
    "# maak een dict met de het aantal gevallen per leeftijd voor suspect en victim\n",
    "leeftijden_man_suspect = suspect_man['participant_age'].value_counts().to_dict()\n",
    "leeftijden_man_victim = victim_man['participant_age'].value_counts().to_dict()\n",
    "\n",
    "# selecteer op vrouw en maak onderscheid suspect en victim\n",
    "woman = df_p.loc[df_p['participant_gender']=='Female']\n",
    "suspect_woman = woman.loc[woman['participant_type']=='Subject-Suspect']\n",
    "victim_woman = woman.loc[woman['participant_type']=='Victim']\n",
    "\n",
    "# maak een dict met de het aantal gevallen per leeftijd voor suspect \n",
    "leeftijden_woman_suspect = suspect_woman['participant_age'].value_counts().to_dict()\n",
    "leeftijden_woman_victim = victim_woman['participant_age'].value_counts().to_dict()\n",
    "\n",
    "\n",
    "\n",
    "# order de dicts en zet in lijst, nieuwe variabelen voor elke groep\n",
    "x = []\n",
    "y = []\n",
    "for  k, v in sorted(leeftijden_man_victim.items()):\n",
    "   \n",
    "    x.append(k)\n",
    "    y.append(v)\n",
    "\n",
    "x1 = []\n",
    "y1 = []\n",
    "for  k, v in sorted(leeftijden_man_suspect.items()):\n",
    "   \n",
    "    x1.append(k)\n",
    "    y1.append(v)\n",
    "\n",
    "x2 = []\n",
    "y2 = []\n",
    "for  k, v in sorted(leeftijden_woman_victim.items()):\n",
    "   \n",
    "    x2.append(k)\n",
    "    y2.append(v)\n",
    "    \n",
    "x3 = []\n",
    "y3 = []\n",
    "for  k, v in sorted(leeftijden_woman_suspect.items()):\n",
    "   \n",
    "    x3.append(k)\n",
    "    y3.append(v)\n"
   ]
  },
  {
   "cell_type": "code",
   "execution_count": 12,
   "metadata": {},
   "outputs": [],
   "source": [
    "# Maak plots\n",
    "\n",
    "\n",
    "output_file(\"Gender_age_division_type.html\")\n",
    "\n",
    "p = figure(x_range = (0,100), y_range=(0,6000), title = 'Age division by gender')\n",
    "\n",
    "p.line(x, y, line_width=2, line_color = \"#47A8E5\")\n",
    "p.circle(x, y, size=2,  fill_color = '#47A8E5', line_color=\"#47A8E5\", line_width=3, legend='Male Victim')\n",
    "\n",
    "p.line(x1, y1, line_width=2, line_color = '#133A7C')\n",
    "p.circle(x1, y1, size=2,  fill_color = '#133A7C', line_color=\"#133A7C\", line_width=3, legend='Male Suspect')\n",
    "\n",
    "p.line(x2, y2, line_width=2, line_color = \"#FF0800\")\n",
    "p.circle(x2, y2, size=2,  fill_color = '#FF0800', line_color=\"#FF0800\", line_width=3, legend='Female Victim')\n",
    "\n",
    "p.line(x3, y3, line_width=2, line_color = \"#800000\")\n",
    "p.circle(x3, y3, size=2,  fill_color = '#800000', line_color=\"#800000\", line_width=3, legend='Female Suspect')\n",
    "\n",
    "\n",
    "\n",
    "p.xaxis.axis_label = \"Age\"\n",
    "p.xaxis.axis_label_text_color = \"#aa6666\"\n",
    "p.xaxis.axis_label_standoff = 30\n",
    "\n",
    "p.yaxis.axis_label = \"Number of Incidents\"\n",
    "p.yaxis.axis_label_text_color = '#aa6666'\n",
    "\n",
    "show(p)\n",
    "\n",
    "\n"
   ]
  },
  {
   "cell_type": "code",
   "execution_count": 37,
   "metadata": {
    "scrolled": true
   },
   "outputs": [
    {
     "name": "stdout",
     "output_type": "stream",
     "text": [
      "[  20.61056423 3906.55327731]\n"
     ]
    }
   ],
   "source": [
    "#maak een df met de jaren en maand als index\n",
    "df_maandcount = lekker.groupby(['year','month']).size().reset_index(name='count').to_dict()\n",
    "\n",
    "#voeg bijbehorende key en values toe aan lijst \n",
    "maanden = []\n",
    "count = []\n",
    "for i in range(1,63):\n",
    "    maanden.append(i+1)\n",
    "    count.append(df_maandcount['count'][i])\n",
    "    \n",
    "# maak een lineare regressie lijst\n",
    "regression = np.polyfit(maanden[12:], count[12:], 1)\n",
    "\n",
    "print(regression)\n",
    "\n",
    "# nu de waarden invullen voor de regressie\n",
    "r_x, r_y = zip(*((i, i*regression[0] + regression[1]) for i in range(12,64)))\n"
   ]
  },
  {
   "cell_type": "code",
   "execution_count": 38,
   "metadata": {},
   "outputs": [],
   "source": [
    "# Plot met lineare regressie vanaf 2014\n",
    "\n",
    "output_file(\"Month_incidents_troughout.html\")\n",
    "\n",
    "p = figure(x_range = (1,63), y_range=(0,5800), title = 'Number of incidents per month')\n",
    "\n",
    "p.line(maanden, count, line_width=2, line_color = \"#47A8E5\")\n",
    "p.circle(maanden, count, size=2,  fill_color = '#47A8E5', line_color=\"#47A8E5\", line_width=3)\n",
    "\n",
    "\n",
    "p.line(r_x, r_y, line_width=2, line_color = \"red\")\n",
    "\n",
    "\n",
    "p.xaxis.axis_label = \"Month\"\n",
    "p.xaxis.axis_label_text_color = \"#aa6666\"\n",
    "p.xaxis.axis_label_standoff = 30\n",
    "\n",
    "p.yaxis.axis_label = \"Number of Incidents\"\n",
    "p.yaxis.axis_label_text_color = '#aa6666'\n",
    "\n",
    "show(p)\n"
   ]
  },
  {
   "cell_type": "code",
   "execution_count": null,
   "metadata": {},
   "outputs": [],
   "source": []
  },
  {
   "cell_type": "code",
   "execution_count": null,
   "metadata": {},
   "outputs": [],
   "source": []
  }
 ],
 "metadata": {
  "kernelspec": {
   "display_name": "Python 3",
   "language": "python",
   "name": "python3"
  },
  "language_info": {
   "codemirror_mode": {
    "name": "ipython",
    "version": 3
   },
   "file_extension": ".py",
   "mimetype": "text/x-python",
   "name": "python",
   "nbconvert_exporter": "python",
   "pygments_lexer": "ipython3",
   "version": "3.6.5"
  }
 },
 "nbformat": 4,
 "nbformat_minor": 2
}
