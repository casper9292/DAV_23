{
 "cells": [
  {
   "cell_type": "code",
   "execution_count": 24,
   "metadata": {},
   "outputs": [],
   "source": [
    "import numpy as np\n",
    "import pandas as pd\n",
    "import json\n",
    "import csv\n",
    "\n",
    "from bokeh.plotting import figure\n",
    "from bokeh.io import output_file, show"
   ]
  },
  {
   "cell_type": "code",
   "execution_count": 25,
   "metadata": {},
   "outputs": [],
   "source": [
    "df = pd.read_json(\"dataset.json\", lines=True)"
   ]
  },
  {
   "cell_type": "code",
   "execution_count": null,
   "metadata": {},
   "outputs": [],
   "source": [
    "# Barchart suicides\n",
    "\n",
    "suicides = df.loc[df['incident_characteristics'].str.contains(\"Suicide\")==True]\n",
    "\n",
    "state = suicides.groupby('state')\n",
    "\n",
    "statecount = suicides['state'].value_counts(sort=False).tolist()\n",
    "states =  suicides['state'].value_counts(sort=False).index.tolist()\n",
    "\n",
    "p = figure(x_range=states, plot_height=400, plot_width = 700, title=\"Suicides with guns in each state\",\n",
    "           toolbar_location=None, tools=\"\")\n",
    "\n",
    "p.vbar(x=states, top=statecount, width=0.9)\n",
    "\n",
    "p.xgrid.grid_line_color = None\n",
    "p.y_range.start = 0\n",
    "\n",
    "p.xaxis.major_label_orientation = 1.2\n",
    "\n",
    "show(p)"
   ]
  },
  {
   "cell_type": "code",
   "execution_count": 50,
   "metadata": {},
   "outputs": [],
   "source": [
    "accidental = df.loc[df['incident_characteristics'].str.contains(\"accidental, suicide\")==True]\n",
    "\n",
    "states = accidental.groupby('state')\n",
    "\n",
    "# Barchart accidental ? suicides\n",
    "\n",
    "\n",
    "statecount = accidental['state'].value_counts(sort=False).tolist()\n",
    "states =  accidental['state'].value_counts(sort=False).index.tolist()\n",
    "\n",
    "p = figure(x_range=states, plot_height=400, plot_width = 700, title=\"Accidental suicides with guns in each state\",\n",
    "           toolbar_location=None, tools=\"\")\n",
    "\n",
    "p.vbar(x=states, top=statecount, width=0.9)\n",
    "\n",
    "p.xgrid.grid_line_color = None\n",
    "p.y_range.start = 0\n",
    "\n",
    "p.xaxis.major_label_orientation = 1.2\n",
    "\n",
    "\n",
    "show(p)"
   ]
  },
  {
   "cell_type": "code",
   "execution_count": 49,
   "metadata": {},
   "outputs": [],
   "source": [
    "# Barchart school shootings\n",
    "\n",
    "\n",
    "shootings = df.loc[df['incident_characteristics'].str.contains(\"School Shooting\")==True]\n",
    "\n",
    "states = shootings.groupby('state')\n",
    "\n",
    "############\n",
    "# barchart #\n",
    "############\n",
    "\n",
    "statecount = shootings['state'].value_counts(sort=False).tolist()\n",
    "states =  shootings['state'].value_counts(sort=False).index.tolist()\n",
    "\n",
    "p = figure(x_range=states, plot_height=400, plot_width = 700, title=\"School shootings in each state\",\n",
    "           toolbar_location=None, tools=\"\")\n",
    "\n",
    "p.vbar(x=states, top=statecount, width=0.9)\n",
    "\n",
    "p.xgrid.grid_line_color = None\n",
    "p.y_range.start = 0\n",
    "\n",
    "p.xaxis.major_label_orientation = 1.2\n",
    "\n",
    "show(p)"
   ]
  }
 ],
 "metadata": {
  "kernelspec": {
   "display_name": "Python 3",
   "language": "python",
   "name": "python3"
  },
  "language_info": {
   "codemirror_mode": {
    "name": "ipython",
    "version": 3
   },
   "file_extension": ".py",
   "mimetype": "text/x-python",
   "name": "python",
   "nbconvert_exporter": "python",
   "pygments_lexer": "ipython3",
   "version": "3.6.4"
  }
 },
 "nbformat": 4,
 "nbformat_minor": 2
}
